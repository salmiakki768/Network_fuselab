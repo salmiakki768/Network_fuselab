{
 "cells": [
  {
   "cell_type": "code",
   "execution_count": 2,
   "id": "a4ac565a-5bb7-491f-97fe-b3946f95da2f",
   "metadata": {},
   "outputs": [
    {
     "name": "stdout",
     "output_type": "stream",
     "text": [
      "/Users/salmi/.pyenv/versions/venv_info_streamlit_trial_3.12.4/bin/python\n",
      "3.12.4 (main, Jul  6 2024, 18:19:43) [Clang 15.0.0 (clang-1500.3.9.4)]\n"
     ]
    }
   ],
   "source": [
    "import sys\n",
    "print(sys.executable)\n",
    "print(sys.version)"
   ]
  },
  {
   "cell_type": "code",
   "execution_count": 1,
   "id": "acb4de8a-be57-47d9-929e-ba07fd63540b",
   "metadata": {},
   "outputs": [],
   "source": [
    "# !pip install streamlit\n",
    "# pandas_datareader\n",
    "# plotly\n",
    "# setuptools（distutilsが必要だが、直でDLできなかったため）\n",
    "\n",
    "\n",
    "networkx\n",
    "bokeh\n",
    "collections\n",
    "pip install --force-reinstall --no-deps bokeh==2.4.3"
   ]
  },
  {
   "cell_type": "code",
   "execution_count": 2,
   "id": "548a6dd2-4657-4623-ba75-55e4a03863e7",
   "metadata": {},
   "outputs": [
    {
     "name": "stdout",
     "output_type": "stream",
     "text": [
      "Package                   Version\n",
      "------------------------- -----------\n",
      "altair                    5.3.0\n",
      "appnope                   0.1.4\n",
      "asttokens                 2.4.1\n",
      "attrs                     23.2.0\n",
      "blinker                   1.8.2\n",
      "bokeh                     2.4.3\n",
      "cachetools                5.3.3\n",
      "certifi                   2024.7.4\n",
      "charset-normalizer        3.3.2\n",
      "click                     8.1.7\n",
      "comm                      0.2.2\n",
      "contourpy                 1.2.1\n",
      "debugpy                   1.8.2\n",
      "decorator                 5.1.1\n",
      "executing                 2.0.1\n",
      "gitdb                     4.0.11\n",
      "GitPython                 3.1.43\n",
      "idna                      3.7\n",
      "ipykernel                 6.29.5\n",
      "ipython                   8.26.0\n",
      "jedi                      0.19.1\n",
      "Jinja2                    3.1.4\n",
      "jsonschema                4.22.0\n",
      "jsonschema-specifications 2023.12.1\n",
      "jupyter_client            8.6.2\n",
      "jupyter_core              5.7.2\n",
      "lxml                      5.2.2\n",
      "markdown-it-py            3.0.0\n",
      "MarkupSafe                2.1.5\n",
      "matplotlib-inline         0.1.7\n",
      "mdurl                     0.1.2\n",
      "nest-asyncio              1.6.0\n",
      "networkx                  3.3\n",
      "numpy                     2.0.0\n",
      "packaging                 24.1\n",
      "pandas                    2.2.2\n",
      "pandas-datareader         0.10.0\n",
      "parso                     0.8.4\n",
      "pexpect                   4.9.0\n",
      "pillow                    10.4.0\n",
      "pip                       24.1.1\n",
      "platformdirs              4.2.2\n",
      "plotly                    5.22.0\n",
      "prompt_toolkit            3.0.47\n",
      "protobuf                  5.27.2\n",
      "psutil                    6.0.0\n",
      "ptyprocess                0.7.0\n",
      "pure-eval                 0.2.2\n",
      "pyarrow                   16.1.0\n",
      "pydeck                    0.9.1\n",
      "Pygments                  2.18.0\n",
      "python-dateutil           2.9.0.post0\n",
      "pytz                      2024.1\n",
      "PyYAML                    6.0.1\n",
      "pyzmq                     26.0.3\n",
      "referencing               0.35.1\n",
      "requests                  2.32.3\n",
      "rich                      13.7.1\n",
      "rpds-py                   0.18.1\n",
      "setuptools                70.2.0\n",
      "six                       1.16.0\n",
      "smmap                     5.0.1\n",
      "stack-data                0.6.3\n",
      "streamlit                 1.36.0\n",
      "tenacity                  8.5.0\n",
      "toml                      0.10.2\n",
      "toolz                     0.12.1\n",
      "tornado                   6.4.1\n",
      "traitlets                 5.14.3\n",
      "typing_extensions         4.12.2\n",
      "tzdata                    2024.1\n",
      "urllib3                   2.2.2\n",
      "wcwidth                   0.2.13\n",
      "xyzservices               2024.6.0\n",
      "Note: you may need to restart the kernel to use updated packages.\n"
     ]
    }
   ],
   "source": [
    "pip list"
   ]
  },
  {
   "cell_type": "code",
   "execution_count": null,
   "id": "5ba38ad2-4581-4e0b-bc99-807af4593a24",
   "metadata": {},
   "outputs": [],
   "source": []
  }
 ],
 "metadata": {
  "kernelspec": {
   "display_name": "venv_info_streamlit_trial_3.12.4",
   "language": "python",
   "name": "venv_info_streamlit_trial_3.12.4"
  },
  "language_info": {
   "codemirror_mode": {
    "name": "ipython",
    "version": 3
   },
   "file_extension": ".py",
   "mimetype": "text/x-python",
   "name": "python",
   "nbconvert_exporter": "python",
   "pygments_lexer": "ipython3",
   "version": "3.12.4"
  }
 },
 "nbformat": 4,
 "nbformat_minor": 5
}
